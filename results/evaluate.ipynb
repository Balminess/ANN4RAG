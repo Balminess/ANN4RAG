{
 "cells": [
  {
   "cell_type": "code",
   "execution_count": 2,
   "metadata": {},
   "outputs": [
    {
     "name": "stdout",
     "output_type": "stream",
     "text": [
      "exact match rate:0.3,longest commone subsquence:65.00894859952933,plausible match rate:0.39,edit_distance:35.38\n"
     ]
    }
   ],
   "source": [
    "from evaluator import caculate_atlas\n",
    "em,lcs,pm,ed,tm=caculate_atlas('/home/pengfei/code/ANN4RAG/results/atlas_sbert_result_1.jsonl')\n",
    "print(f'exact match rate:{em},longest commone subsquence:{lcs},plausible match rate:{pm},edit_distance:{ed}')"
   ]
  }
 ],
 "metadata": {
  "kernelspec": {
   "display_name": "codex",
   "language": "python",
   "name": "python3"
  },
  "language_info": {
   "codemirror_mode": {
    "name": "ipython",
    "version": 3
   },
   "file_extension": ".py",
   "mimetype": "text/x-python",
   "name": "python",
   "nbconvert_exporter": "python",
   "pygments_lexer": "ipython3",
   "version": "3.9.19"
  }
 },
 "nbformat": 4,
 "nbformat_minor": 2
}
